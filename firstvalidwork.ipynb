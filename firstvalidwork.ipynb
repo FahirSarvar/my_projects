{
 "cells": [
  {
   "cell_type": "code",
   "execution_count": 10,
   "id": "3c7911e1",
   "metadata": {},
   "outputs": [
    {
     "name": "stdout",
     "output_type": "stream",
     "text": [
      "hello silverhand motherfucker 2077 to the night city\n"
     ]
    }
   ],
   "source": [
    "\n",
    "lastname = input(\"lastname\")\n",
    "yearsold = input('yearsold')\n",
    "print(f'hello {lastname} motherfucker {yearsold} to the night city')"
   ]
  }
 ],
 "metadata": {
  "kernelspec": {
   "display_name": "Python 3",
   "language": "python",
   "name": "python3"
  },
  "language_info": {
   "codemirror_mode": {
    "name": "ipython",
    "version": 3
   },
   "file_extension": ".py",
   "mimetype": "text/x-python",
   "name": "python",
   "nbconvert_exporter": "python",
   "pygments_lexer": "ipython3",
   "version": "3.13.7"
  }
 },
 "nbformat": 4,
 "nbformat_minor": 5
}
