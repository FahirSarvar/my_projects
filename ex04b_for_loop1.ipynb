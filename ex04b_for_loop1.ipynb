{
 "cells": [
  {
   "cell_type": "markdown",
   "metadata": {},
   "source": [
    "### 1\t\n",
    "\n",
    "Write a program to print the numbers 2 to 10 in increments of two on the same line. The output of your program should be 2 4 6 8 10 "
   ]
  },
  {
   "cell_type": "markdown",
   "metadata": {},
   "source": [
    "### 2\t\n",
    "Write a Program to compute the sum of eight numbers. You will prompt the user for each number. Your prompt should also indicate which number is currently being accepted e.g. your prompt can be \"Please enter value #5: \""
   ]
  },
  {
   "cell_type": "markdown",
   "metadata": {},
   "source": [
    "#### 3\t\n",
    "Write a Program to compute the average of ten numbers. You will prompt the user for each number."
   ]
  },
  {
   "cell_type": "markdown",
   "metadata": {},
   "source": [
    "#### 4\n",
    "Write a program to calculate the sum of numbers from 1 to 100."
   ]
  },
  {
   "cell_type": "markdown",
   "metadata": {},
   "source": [
    "#### 5\n",
    "Write a program to print the numbers from 10 down to 1 on a single line.\n"
   ]
  },
  {
   "cell_type": "markdown",
   "metadata": {},
   "source": [
    "#### 6\n",
    "Write a program to prompt the user for a number and then prints its multiplication table up to 10"
   ]
  },
  {
   "cell_type": "markdown",
   "metadata": {},
   "source": [
    "#### 7 \n",
    "Write a program to print all the numbers from 1 tp 50 that are multiples of 3 or 5 or both."
   ]
  },
  {
   "cell_type": "markdown",
   "metadata": {},
   "source": [
    "#### 8\n",
    "Write a program to print all the numbers from 40 to 0 that are NOT multiples of 7."
   ]
  },
  {
   "cell_type": "markdown",
   "metadata": {},
   "source": [
    "#### 9\t\n",
    "Write a python program that displays a conversion table from gallons to liters. The program should display gallons from 10 to 20 in one-gallon increments and the corresponding liter equivalents. Use the relationship that 1 gallon contains 3.785 liters. Your table must look professional!"
   ]
  },
  {
   "cell_type": "markdown",
   "metadata": {},
   "source": [
    "#### 10\t\n",
    "Write a C# program that converts feet to meters. The program should display feet from 3 to 30 in three-foot increments and the corresponding meter equivalents. Use the relationship that 1 meter is equivalent to 3.28 feet. Your table must look professional!\n",
    "\n",
    "| meters |  feet |\n",
    "| ---: | ---: |\n",
    "|    3 |      9.75 |\n",
    "|    6 |     19.50 |\n",
    "|    9 |     29.25 |\n",
    "|   12 |     39.00 |\n",
    "|   15 |     48.75 |\n",
    "|   18 |     58.50 |\n",
    "|   21 |     68.25 |\n",
    "|   24 |     78.00 |\n",
    "|   27 |     87.75 |\n",
    "|   30 |     97.50 |"
   ]
  },
  {
   "cell_type": "markdown",
   "metadata": {},
   "source": [
    "#### 11\t\n",
    "Write a program to produce a table of the numbers 0 through 20 in increments of 2, with their squares and cubes. Your table must look professional!\n",
    "\n",
    "Your output should be formatted as shown below\n",
    "\n",
    "| x  |  x^2 |   x^3 |\n",
    "| ---: | ---: | ---: |\n",
    "|  0 |      0 |       0 |\n",
    "|  2 |      4 |       8 |\n",
    "|  4 |     16 |      64 |\n",
    "|  6 |     36 |     216 |\n",
    "|  8 |     64 |     512 |\n",
    "| 10 |    100 |    1000 |\n",
    "| 12 |    144 |    1728 |\n",
    "| 14 |    196 |    2744 |\n",
    "| 16 |    256 |    4096 |\n",
    "| 18 |    324 |    5832 |\n",
    "| 20 |    400 |    8000 |"
   ]
  },
  {
   "cell_type": "markdown",
   "metadata": {},
   "source": [
    "#### 12\t\n",
    "Write a program to produce a table of numbers from 10 to 1, with their squares and cubes. Again, your table must look professional!\n",
    "\n",
    "Your output should be formatted as shown below\n",
    "| x  |  x^2 |   x^3 |\n",
    "| ---: | ---: | ---: |\n",
    " | 10 |     100 |    1000 |\n",
    " |  9 |      81 |     729 |\n",
    " |  8 |      64 |     512 |\n",
    " |  7 |      49 |     343 |\n",
    " |  6 |      36 |     216 |\n",
    " |  5 |      25 |     125 |\n",
    " |  4 |      16 |      64 |\n",
    " |  3 |       9 |      27 |\n",
    " |  2 |       4 |       8 |\n",
    " |  1 |       1 |       1 |"
   ]
  },
  {
   "cell_type": "markdown",
   "metadata": {},
   "source": [
    "#### 13\t\n",
    "Write a program that displays a conversion table from Fahrenheit to Celsius. The program must request the starting Fahrenheit value, the ending Fahrenheit value, and the increment. Thus, instead of the condition checking for a fixed count, the condition checks for the ending Fahrenheit value. Your table must look professional!\n",
    "\n",
    "Your output should be formatted as shown below\n",
    "|meters |  feet|\n",
    "| ---: | ---: |\n",
    "|    0 |      0.00 |\n",
    "|    3 |      9.75 |\n",
    "|    6 |     19.50 |\n",
    "|    9 |     29.25 |\n",
    "|   12 |     39.00 |\n",
    "|   15 |     48.75 |\n",
    "|   18 |     58.50 |\n",
    "|   21 |     68.25 |\n",
    "|   24 |     78.00 |\n",
    "|   27 |     87.75 |\n",
    "|   30 |     97.50 |"
   ]
  },
  {
   "cell_type": "markdown",
   "metadata": {},
   "source": [
    "#### 14  \n",
    "Write a python program that calculates and displays the amount of money available in a bank account that initially has $1,000 deposited in it and that earns 8 percent interest a year. Your program should display the amount available at the end of each year for a period of ten years. Use the relationship that the money available at the end of each year equals the amount of money in the account at the start of the year plus .08 times the amount available at the start of the year.\n",
    "\n",
    "\n",
    "Your output should be formatted as shown below\n",
    "| Year  |  Balance |\n",
    "| ---: | ---: |\n",
    "|  1 |     $1,080.00 |\n",
    "|  2 |     $1,166.40 |\n",
    "|  3 |     $1,259.71 |\n",
    "|  4 |     $1,360.49 |\n",
    "|  5 |     $1,469.33 |\n",
    "|  6 |     $1,586.87 |\n",
    "|  7 |     $1,713.82 |\n",
    "|  8 |     $1,850.93 |\n",
    "|  9 |     $1,999.00 |\n",
    "| 10 |     $2,158.92 |\n"
   ]
  },
  {
   "cell_type": "markdown",
   "metadata": {},
   "source": [
    "#### 15\n",
    "Write a program to prompt the user for an integer. The program should add the digits and print the sum."
   ]
  },
  {
   "cell_type": "markdown",
   "metadata": {},
   "source": [
    "#### 16\t\n",
    "Write a program that continuously requests a grade. \n",
    "If the grade is less than 0 or greater than 100, your program should print an appropriate message informing the user that an invalid grade has been entered, \n",
    "else the grade should be added to a total. \n",
    "If the grade is 999, the program should exit the loop and display the sum, number of valid grades and the average of the valid grades entered. (You must NOT display an invalid message)\n",
    "P.S. The value 999 is use to terminate the cycle and should not be used in any of the calculation. You must not display an “Invalid grade”"
   ]
  },
  {
   "cell_type": "markdown",
   "metadata": {},
   "source": [
    "#### 17\t\n",
    "Print the decimal, octal, and hexadecimal values of all characters between the start and stop characters entered by a user. For example, if the user enters an a and a z, the program should print all the characters between a and z and their respective numerical values. Make sure that the second character entered by the user occurs later in the alphabet than the first character. If it does not, write a loop that repeatedly asks the user for a valid second character until one is entered.\n",
    "Your output should be formatted as shown below\n",
    "| Letter | Decimal | Octal | Hex |\n",
    "|--------|---------|-------|-----|\n",
    "| a      | 97\t   | 141   | 61  |\n",
    "| b      | 98\t   | 142   | 62  |\n",
    "| c      | 99\t   | 143   | 63  |\n",
    "| d      | 100     | 144   | 64  |\n",
    "| e      | 101     | 145   | 65  |\n",
    "\n",
    "-   to obtain an int from a char use an explicit cast\n",
    "-   to obtain an octal from an int use Convert.ToString(«number_value», 8)\n",
    "-   to obtain a hexadecimal from an int use Convert.ToString(«number_value», 16)"
   ]
  },
  {
   "cell_type": "markdown",
   "metadata": {},
   "source": [
    "#### 18\n",
    "Write a program to print all the letter from A to Z"
   ]
  },
  {
   "cell_type": "markdown",
   "metadata": {},
   "source": [
    "#### 19\n",
    "Write a program to find al 3-digits Armstrong number (e.g. 153 = 1^3 + 5^3 + 3^3)"
   ]
  }
 ],
 "metadata": {
  "kernelspec": {
   "display_name": "Python 3",
   "language": "python",
   "name": "python3"
  },
  "language_info": {
   "codemirror_mode": {
    "name": "ipython",
    "version": 3
   },
   "file_extension": ".py",
   "mimetype": "text/x-python",
   "name": "python",
   "nbconvert_exporter": "python",
   "pygments_lexer": "ipython3",
   "version": "3.13.2"
  }
 },
 "nbformat": 4,
 "nbformat_minor": 2
}
