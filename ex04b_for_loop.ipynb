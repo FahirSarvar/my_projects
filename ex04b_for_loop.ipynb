{
 "cells": [
  {
   "cell_type": "markdown",
   "metadata": {},
   "source": [
    "### 1\t\n",
    "\n",
    "Write a program to print the numbers 2 to 10 in increments of two on the same line. The output of your program should be 2 4 6 8 10 "
   ]
  },
  {
   "cell_type": "code",
   "execution_count": null,
   "metadata": {},
   "outputs": [
    {
     "name": "stdout",
     "output_type": "stream",
     "text": [
      "2 4 6 8 "
     ]
    }
   ],
   "source": [
    "a = 2\n",
    "b = 10\n",
    "while a<b:\n",
    "    print(f'{a}', end=\" \")\n",
    "    a +=2"
   ]
  },
  {
   "cell_type": "markdown",
   "metadata": {},
   "source": [
    "### 2\t\n",
    "Write a Program to compute the sum of eight numbers. You will prompt the user for each number. Your prompt should also indicate which number is currently being accepted e.g. your prompt can be \"Please enter value #5: \""
   ]
  },
  {
   "cell_type": "code",
   "execution_count": 4,
   "metadata": {},
   "outputs": [
    {
     "name": "stdout",
     "output_type": "stream",
     "text": [
      "8.0\n"
     ]
    }
   ],
   "source": [
    "a = 0\n",
    "for _ in range(1,9):\n",
    "    b = float(input(f'enter the number {_}'))\n",
    "    a += b\n",
    "print(a)"
   ]
  },
  {
   "cell_type": "markdown",
   "metadata": {},
   "source": [
    "#### 3\t\n",
    "Write a Program to compute the average of ten numbers. You will prompt the user for each number."
   ]
  },
  {
   "cell_type": "code",
   "execution_count": 9,
   "metadata": {},
   "outputs": [
    {
     "name": "stdout",
     "output_type": "stream",
     "text": [
      "5.5\n"
     ]
    }
   ],
   "source": [
    "a = 0\n",
    "for _ in range(1,11):\n",
    "    b = float(input(f'enter the number {_}'))\n",
    "    a += b\n",
    "avg = a/10\n",
    "print(avg)\n"
   ]
  },
  {
   "cell_type": "markdown",
   "metadata": {},
   "source": [
    "#### 4\n",
    "Write a program to calculate the sum of numbers from 1 to 100."
   ]
  },
  {
   "cell_type": "code",
   "execution_count": null,
   "metadata": {},
   "outputs": [
    {
     "name": "stdout",
     "output_type": "stream",
     "text": [
      "1\n",
      "2\n",
      "3\n",
      "4\n",
      "5\n",
      "6\n",
      "7\n",
      "8\n",
      "9\n",
      "10\n",
      "11\n",
      "12\n",
      "13\n",
      "14\n",
      "15\n",
      "16\n",
      "17\n",
      "18\n",
      "19\n",
      "20\n",
      "21\n",
      "22\n",
      "23\n",
      "24\n",
      "25\n",
      "26\n",
      "27\n",
      "28\n",
      "29\n",
      "30\n",
      "31\n",
      "32\n",
      "33\n",
      "34\n",
      "35\n",
      "36\n",
      "37\n",
      "38\n",
      "39\n",
      "40\n",
      "41\n",
      "42\n",
      "43\n",
      "44\n",
      "45\n",
      "46\n",
      "47\n",
      "48\n",
      "49\n",
      "50\n",
      "51\n",
      "52\n",
      "53\n",
      "54\n",
      "55\n",
      "56\n",
      "57\n",
      "58\n",
      "59\n",
      "60\n",
      "61\n",
      "62\n",
      "63\n",
      "64\n",
      "65\n",
      "66\n",
      "67\n",
      "68\n",
      "69\n",
      "70\n",
      "71\n",
      "72\n",
      "73\n",
      "74\n",
      "75\n",
      "76\n",
      "77\n",
      "78\n",
      "79\n",
      "80\n",
      "81\n",
      "82\n",
      "83\n",
      "84\n",
      "85\n",
      "86\n",
      "87\n",
      "88\n",
      "89\n",
      "90\n",
      "91\n",
      "92\n",
      "93\n",
      "94\n",
      "95\n",
      "96\n",
      "97\n",
      "98\n",
      "99\n",
      "100\n",
      "5050\n"
     ]
    }
   ],
   "source": [
    "a = 0\n",
    "for b in range(1,101):\n",
    "    a += b\n",
    "print(a)\n",
    "\n",
    "    "
   ]
  },
  {
   "cell_type": "markdown",
   "metadata": {},
   "source": [
    "#### 5\n",
    "Write a program to print the numbers from 10 down to 1 on a single line.\n"
   ]
  },
  {
   "cell_type": "code",
   "execution_count": 8,
   "metadata": {},
   "outputs": [
    {
     "name": "stdout",
     "output_type": "stream",
     "text": [
      "10 9 8 7 6 5 4 3 2 1 "
     ]
    }
   ],
   "source": [
    "a = 10\n",
    "while a>=1:\n",
    "    print(a,end=\" \")\n",
    "    a-=1"
   ]
  },
  {
   "cell_type": "markdown",
   "metadata": {},
   "source": [
    "#### 6\n",
    "Write a program to prompt the user for a number and then prints its multiplication table up to 10"
   ]
  },
  {
   "cell_type": "code",
   "execution_count": null,
   "metadata": {},
   "outputs": [
    {
     "name": "stdout",
     "output_type": "stream",
     "text": [
      "5.0*1 = 5.0\n",
      "5.0*2 = 10.0\n",
      "5.0*3 = 15.0\n",
      "5.0*4 = 20.0\n",
      "5.0*5 = 25.0\n",
      "5.0*6 = 30.0\n",
      "5.0*7 = 35.0\n",
      "5.0*8 = 40.0\n",
      "5.0*9 = 45.0\n",
      "5.0*10 = 50.0\n"
     ]
    }
   ],
   "source": [
    "a = float(input('enter the number'))\n",
    "for b in range(1,11):\n",
    "    print(f'{a}*{b} = {a*b}')\n",
    "    \n"
   ]
  },
  {
   "cell_type": "markdown",
   "metadata": {},
   "source": [
    "#### 7 \n",
    "Write a program to print all the numbers from 1 tp 50 that are multiples of 3 or 5 or both."
   ]
  },
  {
   "cell_type": "code",
   "execution_count": null,
   "metadata": {},
   "outputs": [
    {
     "name": "stdout",
     "output_type": "stream",
     "text": [
      "2\n",
      "3\n",
      "6\n",
      "8\n",
      "9\n",
      "10\n",
      "12\n",
      "15\n",
      "16\n",
      "18\n",
      "21\n",
      "24\n",
      "26\n",
      "27\n",
      "30\n",
      "32\n",
      "33\n",
      "34\n",
      "36\n",
      "39\n",
      "40\n",
      "42\n",
      "45\n",
      "48\n",
      "50\n"
     ]
    }
   ],
   "source": [
    "for a in range(1,51):\n",
    "    if a % 3 ==0 or a & 5 ==0:\n",
    "        print(a)"
   ]
  },
  {
   "cell_type": "markdown",
   "metadata": {},
   "source": [
    "#### 8\n",
    "Write a program to print all the numbers from 40 to 0 that are NOT multiples of 7."
   ]
  },
  {
   "cell_type": "code",
   "execution_count": null,
   "metadata": {},
   "outputs": [
    {
     "name": "stdout",
     "output_type": "stream",
     "text": [
      "40\n",
      "39\n",
      "38\n",
      "37\n",
      "36\n",
      "34\n",
      "33\n",
      "32\n",
      "31\n",
      "30\n",
      "29\n",
      "27\n",
      "26\n",
      "25\n",
      "24\n",
      "23\n",
      "22\n",
      "20\n",
      "19\n",
      "18\n",
      "17\n",
      "16\n",
      "15\n",
      "13\n",
      "12\n",
      "11\n",
      "10\n",
      "9\n",
      "8\n",
      "6\n",
      "5\n",
      "4\n",
      "3\n",
      "2\n",
      "1\n"
     ]
    }
   ],
   "source": [
    "a = 40\n",
    "while a>=0:\n",
    "    if a % 7 !=0:\n",
    "        print(a)\n",
    "    a -=1"
   ]
  },
  {
   "cell_type": "markdown",
   "metadata": {},
   "source": [
    "#### 9\t\n",
    "Write a python program that displays a conversion table from gallons to liters. The program should display gallons from 10 to 20 in one-gallon increments and the corresponding liter equivalents. Use the relationship that 1 gallon contains 3.785 liters. Your table must look professional!"
   ]
  },
  {
   "cell_type": "code",
   "execution_count": null,
   "metadata": {},
   "outputs": [
    {
     "name": "stdout",
     "output_type": "stream",
     "text": [
      "-----------------------------\n",
      "|   gallons  |    litres    |\n",
      "-----------------------------\n",
      "|      10    |    37.85     |\n",
      "-----------------------------\n",
      "|      11    |    41.64     |\n",
      "-----------------------------\n",
      "|      12    |    45.42     |\n",
      "-----------------------------\n",
      "|      13    |    49.20     |\n",
      "-----------------------------\n",
      "|      14    |    52.99     |\n",
      "-----------------------------\n",
      "|      15    |    56.78     |\n",
      "-----------------------------\n",
      "|      16    |    60.56     |\n",
      "-----------------------------\n",
      "|      17    |    64.34     |\n",
      "-----------------------------\n",
      "|      18    |    68.13     |\n",
      "-----------------------------\n",
      "|      19    |    71.92     |\n",
      "-----------------------------\n",
      "|      20    |    75.70     |\n",
      "-----------------------------\n"
     ]
    }
   ],
   "source": [
    "print('-----------------------------')\n",
    "print('|   gallons  |    litres    |')\n",
    "print('-----------------------------')\n",
    "lg = 3.785\n",
    "for gl in range(10,21):\n",
    "    liters=f'{gl*lg:.2f}'\n",
    "    print(f'|{gl:>8}    |{liters:>9}     |')\n",
    "    print('-----------------------------')\n",
    "\n"
   ]
  },
  {
   "cell_type": "markdown",
   "metadata": {},
   "source": [
    "#### 10\t\n",
    "Write a C# program that converts feet to meters. The program should display feet from 3 to 30 in three-foot increments and the corresponding meter equivalents. Use the relationship that 1 meter is equivalent to 3.28 feet. Your table must look professional!\n",
    "\n",
    "| meters |  feet |\n",
    "| ---: | ---: |\n",
    "|    3 |      9.75 |\n",
    "|    6 |     19.50 |\n",
    "|    9 |     29.25 |\n",
    "|   12 |     39.00 |\n",
    "|   15 |     48.75 |\n",
    "|   18 |     58.50 |\n",
    "|   21 |     68.25 |\n",
    "|   24 |     78.00 |\n",
    "|   27 |     87.75 |\n",
    "|   30 |     97.50 |"
   ]
  },
  {
   "cell_type": "code",
   "execution_count": 32,
   "metadata": {},
   "outputs": [
    {
     "name": "stdout",
     "output_type": "stream",
     "text": [
      "----------------------------------\n",
      "|    meters   |        feet      |\n",
      "----------------------------------\n",
      "|      3      |        9.84      |\n",
      "----------------------------------\n",
      "|      6      |       19.68      |\n",
      "----------------------------------\n",
      "|      9      |       29.52      |\n",
      "----------------------------------\n",
      "|     12      |       39.36      |\n",
      "----------------------------------\n",
      "|     15      |       49.20      |\n",
      "----------------------------------\n",
      "|     18      |       59.04      |\n",
      "----------------------------------\n",
      "|     21      |       68.88      |\n",
      "----------------------------------\n",
      "|     24      |       78.72      |\n",
      "----------------------------------\n",
      "|     27      |       88.56      |\n",
      "----------------------------------\n",
      "|     30      |       98.40      |\n",
      "----------------------------------\n"
     ]
    }
   ],
   "source": [
    "print('----------------------------------')\n",
    "print('|    meters   |        feet      |')\n",
    "print('----------------------------------')\n",
    "foot = 3.28\n",
    "for m in range(3,31,3):\n",
    "    feet = f'{m * foot:.2f}'\n",
    "    print(f'|{m:>7}      |{feet:>12}      |')\n",
    "    print('----------------------------------')"
   ]
  },
  {
   "cell_type": "markdown",
   "metadata": {},
   "source": [
    "#### 11\t\n",
    "Write a program to produce a table of the numbers 0 through 20 in increments of 2, with their squares and cubes. Your table must look professional!\n",
    "\n",
    "Your output should be formatted as shown below\n",
    "\n",
    "| x  |  x^2 |   x^3 |\n",
    "| ---: | ---: | ---: |\n",
    "|  0 |      0 |       0 |\n",
    "|  2 |      4 |       8 |\n",
    "|  4 |     16 |      64 |\n",
    "|  6 |     36 |     216 |\n",
    "|  8 |     64 |     512 |\n",
    "| 10 |    100 |    1000 |\n",
    "| 12 |    144 |    1728 |\n",
    "| 14 |    196 |    2744 |\n",
    "| 16 |    256 |    4096 |\n",
    "| 18 |    324 |    5832 |\n",
    "| 20 |    400 |    8000 |"
   ]
  },
  {
   "cell_type": "code",
   "execution_count": null,
   "metadata": {},
   "outputs": [
    {
     "name": "stdout",
     "output_type": "stream",
     "text": [
      "-------------------------\n",
      "|  x |  x^2 |     x^3   |\n",
      "-------------------------\n",
      "|  0 |   0  |      0    |\n",
      "-------------------------\n",
      "|  2 |   4  |      8    |\n",
      "-------------------------\n",
      "|  4 |  16  |     64    |\n",
      "-------------------------\n",
      "|  6 |  36  |    216    |\n",
      "-------------------------\n",
      "|  8 |  64  |    512    |\n",
      "-------------------------\n",
      "| 10 | 100  |   1000    |\n",
      "-------------------------\n",
      "| 12 | 144  |   1728    |\n",
      "-------------------------\n",
      "| 14 | 196  |   2744    |\n",
      "-------------------------\n",
      "| 16 | 256  |   4096    |\n",
      "-------------------------\n",
      "| 18 | 324  |   5832    |\n",
      "-------------------------\n",
      "| 20 | 400  |   8000    |\n",
      "-------------------------\n"
     ]
    }
   ],
   "source": [
    "print('-------------------------')\n",
    "print('|  x |  x^2 |     x^3   |')\n",
    "print('-------------------------')\n",
    "for x in range(0,21,2):\n",
    "    print(f'| {x:>2} | {x**2:>3}  |   {x**3:>4}    |')\n",
    "    print('-------------------------')"
   ]
  },
  {
   "cell_type": "markdown",
   "metadata": {},
   "source": [
    "#### 12\n",
    "Write a program to produce a table of numbers from 10 to 1, with their squares and cubes. Again, your table must look professional!\n",
    "\n",
    "Your output should be formatted as shown below\n",
    "| x  |  x^2 |   x^3 |\n",
    "| ---: | ---: | ---: |\n",
    " | 10 |     100 |    1000 |\n",
    " |  9 |      81 |     729 |\n",
    " |  8 |      64 |     512 |\n",
    " |  7 |      49 |     343 |\n",
    " |  6 |      36 |     216 |\n",
    " |  5 |      25 |     125 |\n",
    " |  4 |      16 |      64 |\n",
    " |  3 |       9 |      27 |\n",
    " |  2 |       4 |       8 |\n",
    " |  1 |       1 |       1 |"
   ]
  },
  {
   "cell_type": "code",
   "execution_count": 15,
   "metadata": {},
   "outputs": [
    {
     "name": "stdout",
     "output_type": "stream",
     "text": [
      "-------------------------\n",
      "|  x |  x^2 |    x^3    |\n",
      "-------------------------\n",
      "| 10 | 100  |   1000    |\n",
      "-------------------------\n",
      "|  9 |  81  |    729    |\n",
      "-------------------------\n",
      "|  8 |  64  |    512    |\n",
      "-------------------------\n",
      "|  7 |  49  |    343    |\n",
      "-------------------------\n",
      "|  6 |  36  |    216    |\n",
      "-------------------------\n",
      "|  5 |  25  |    125    |\n",
      "-------------------------\n",
      "|  4 |  16  |     64    |\n",
      "-------------------------\n",
      "|  3 |   9  |     27    |\n",
      "-------------------------\n",
      "|  2 |   4  |      8    |\n",
      "-------------------------\n",
      "|  1 |   1  |      1    |\n",
      "-------------------------\n"
     ]
    }
   ],
   "source": [
    "print('-------------------------')\n",
    "print('|  x |  x^2 |    x^3    |')\n",
    "print('-------------------------')\n",
    "x = 10\n",
    "while x>=1:\n",
    "    print(f'| {x:>2} | {x**2:>3}  |   {x**3:>4}    |')\n",
    "    x -= 1\n",
    "    print('-------------------------')"
   ]
  },
  {
   "cell_type": "markdown",
   "metadata": {},
   "source": [
    "#### 13\t\n",
    "Write a program that displays a conversion table from Fahrenheit to Celsius. The program must request the starting Fahrenheit value, the ending Fahrenheit value, and the increment. Thus, instead of the condition checking for a fixed count, the condition checks for the ending Fahrenheit value. Your table must look professional!\n",
    "\n",
    "Your output should be formatted as shown below\n",
    "|meters |  feet|\n",
    "| ---: | ---: |\n",
    "|    0 |      0.00 |\n",
    "|    3 |      9.75 |\n",
    "|    6 |     19.50 |\n",
    "|    9 |     29.25 |\n",
    "|   12 |     39.00 |\n",
    "|   15 |     48.75 |\n",
    "|   18 |     58.50 |\n",
    "|   21 |     68.25 |\n",
    "|   24 |     78.00 |\n",
    "|   27 |     87.75 |\n",
    "|   30 |     97.50 |"
   ]
  },
  {
   "cell_type": "code",
   "execution_count": 38,
   "metadata": {},
   "outputs": [
    {
     "name": "stdout",
     "output_type": "stream",
     "text": [
      "-------------------------------\n",
      "|   Farenheit   |   Celsius   |\n",
      "-------------------------------\n",
      "|     0.00      |   -17.78    |\n",
      "-------------------------------\n",
      "|     1.00      |   -17.22    |\n",
      "-------------------------------\n",
      "|     2.00      |   -16.67    |\n",
      "-------------------------------\n",
      "|     3.00      |   -16.11    |\n",
      "-------------------------------\n",
      "|     4.00      |   -15.56    |\n",
      "-------------------------------\n",
      "|     5.00      |   -15.00    |\n",
      "-------------------------------\n",
      "|     6.00      |   -14.44    |\n",
      "-------------------------------\n",
      "|     7.00      |   -13.89    |\n",
      "-------------------------------\n",
      "|     8.00      |   -13.33    |\n",
      "-------------------------------\n",
      "|     9.00      |   -12.78    |\n",
      "-------------------------------\n",
      "|    10.00      |   -12.22    |\n",
      "-------------------------------\n"
     ]
    }
   ],
   "source": [
    "print('-------------------------------')\n",
    "print('|   Farenheit   |   Celsius   |')\n",
    "print('-------------------------------')\n",
    "startingf = float(input('enter starting Fareheit value'))\n",
    "endingf = float(input('enter ending Fareheit value'))\n",
    "increment = float(input('enetr the increment'))\n",
    "while startingf <= endingf:\n",
    "     c = float(f'{(startingf -32)/1.8}')\n",
    "     farenheit = f'{startingf:.2f}'\n",
    "     celcius = f'{c:.2f}'\n",
    "     print(f'|  {farenheit:>7}      |   {celcius}    |')\n",
    "     print('-------------------------------')\n",
    "     startingf += increment\n",
    "     "
   ]
  },
  {
   "cell_type": "markdown",
   "metadata": {},
   "source": [
    "#### 14  \n",
    "Write a python program that calculates and displays the amount of money available in a bank account that initially has $1,000 deposited in it and that earns 8 percent interest a year. Your program should display the amount available at the end of each year for a period of ten years. Use the relationship that the money available at the end of each year equals the amount of money in the account at the start of the year plus .08 times the amount available at the start of the year.\n",
    "\n",
    "\n",
    "Your output should be formatted as shown below\n",
    "| Year  |  Balance |\n",
    "| ---: | ---: |\n",
    "|  1 |     $1,080.00 |\n",
    "|  2 |     $1,166.40 |\n",
    "|  3 |     $1,259.71 |\n",
    "|  4 |     $1,360.49 |\n",
    "|  5 |     $1,469.33 |\n",
    "|  6 |     $1,586.87 |\n",
    "|  7 |     $1,713.82 |\n",
    "|  8 |     $1,850.93 |\n",
    "|  9 |     $1,999.00 |\n",
    "| 10 |     $2,158.92 |\n"
   ]
  },
  {
   "cell_type": "code",
   "execution_count": 59,
   "metadata": {},
   "outputs": [
    {
     "name": "stdout",
     "output_type": "stream",
     "text": [
      "----------------------------\n",
      "|   year   |    Balance    |\n",
      "----------------------------\n",
      "|     1    |    1080.00    |\n",
      "----------------------------\n",
      "|     2    |    1166.40    |\n",
      "----------------------------\n",
      "|     3    |    1259.71    |\n",
      "----------------------------\n",
      "|     4    |    1360.49    |\n",
      "----------------------------\n",
      "|     5    |    1469.33    |\n",
      "----------------------------\n",
      "|     6    |    1586.87    |\n",
      "----------------------------\n",
      "|     7    |    1713.82    |\n",
      "----------------------------\n",
      "|     8    |    1850.93    |\n",
      "----------------------------\n",
      "|     9    |    1999.00    |\n",
      "----------------------------\n",
      "|    10    |    2158.92    |\n",
      "----------------------------\n"
     ]
    }
   ],
   "source": [
    "print('----------------------------')\n",
    "print('|   year   |    Balance    |')\n",
    "print('----------------------------')\n",
    "start = 1000\n",
    "for a in range(1,11):\n",
    "    end = start + (start * 0.08)\n",
    "    Balance = f'{end:.2f}'\n",
    "    print(f'|  {a:>4}    |    {Balance}    |')\n",
    "    print('----------------------------')\n",
    "    start = end\n",
    "\n"
   ]
  },
  {
   "cell_type": "markdown",
   "metadata": {},
   "source": [
    "#### 15\n",
    "Write a program to prompt the user for an integer. The program should add the digits and print the sum."
   ]
  },
  {
   "cell_type": "code",
   "execution_count": 62,
   "metadata": {},
   "outputs": [
    {
     "name": "stdout",
     "output_type": "stream",
     "text": [
      "7\n"
     ]
    }
   ],
   "source": [
    "num = input('enter an integer')\n",
    "sum = 0\n",
    "for digit in num:\n",
    "    sum += int(digit)\n",
    "print(sum)"
   ]
  },
  {
   "cell_type": "markdown",
   "metadata": {},
   "source": [
    "#### 16\t\n",
    "Write a program that continuously requests a grade. \n",
    "If the grade is less than 0 or greater than 100, your program should print an appropriate message informing the user that an invalid grade has been entered, \n",
    "else the grade should be added to a total. \n",
    "If the grade is 999, the program should exit the loop and display the sum, number of valid grades and the average of the valid grades entered. (You must NOT display an invalid message)\n",
    "P.S. The value 999 is use to terminate the cycle and should not be used in any of the calculation. You must not display an “Invalid grade”"
   ]
  },
  {
   "cell_type": "code",
   "execution_count": 9,
   "metadata": {},
   "outputs": [
    {
     "name": "stdout",
     "output_type": "stream",
     "text": [
      "an invalid grade\n",
      "an invalid grade\n",
      "271\n"
     ]
    }
   ],
   "source": [
    "count = 0\n",
    "sum = 0\n",
    "while True:\n",
    "    grade = int(input('enter the grade'))\n",
    "    if grade == 999:\n",
    "        break\n",
    "    elif grade <0 or grade >100:\n",
    "        print('an invalid grade')\n",
    "        continue\n",
    "    else:\n",
    "        sum += grade\n",
    "        count +=1\n",
    "print(sum)\n",
    "\n",
    "    "
   ]
  },
  {
   "cell_type": "markdown",
   "metadata": {},
   "source": [
    "#### 17\t\n",
    "Print the decimal, octal, and hexadecimal values of all characters between the start and stop characters entered by a user. For example, if the user enters an a and a z, the program should print all the characters between a and z and their respective numerical values. Make sure that the second character entered by the user occurs later in the alphabet than the first character. If it does not, write a loop that repeatedly asks the user for a valid second character until one is entered.\n",
    "Your output should be formatted as shown below\n",
    "| Letter | Decimal | Octal | Hex |\n",
    "|--------|---------|-------|-----|\n",
    "| a      | 97\t   | 141   | 61  |\n",
    "| b      | 98\t   | 142   | 62  |\n",
    "| c      | 99\t   | 143   | 63  |\n",
    "| d      | 100     | 144   | 64  |\n",
    "| e      | 101     | 145   | 65  |\n",
    "\n",
    "-   to obtain an int from a char use an explicit cast\n",
    "-   to obtain an octal from an int use Convert.ToString(«number_value», 8)\n",
    "-   to obtain a hexadecimal from an int use Convert.ToString(«number_value», 16)"
   ]
  },
  {
   "cell_type": "code",
   "execution_count": 24,
   "metadata": {},
   "outputs": [
    {
     "name": "stdout",
     "output_type": "stream",
     "text": [
      "------------------------------------------\n",
      "| Letter  |  Decimal  |  Octal  |  Hex   |\n",
      "------------------------------------------\n",
      "|   a     |    97     |   141   |   61   |\n",
      "------------------------------------------\n",
      "|   b     |    98     |   142   |   62   |\n",
      "------------------------------------------\n",
      "|   c     |    99     |   143   |   63   |\n",
      "------------------------------------------\n",
      "|   d     |   100     |   144   |   64   |\n",
      "------------------------------------------\n",
      "|   e     |   101     |   145   |   65   |\n",
      "------------------------------------------\n",
      "|   f     |   102     |   146   |   66   |\n",
      "------------------------------------------\n",
      "|   g     |   103     |   147   |   67   |\n",
      "------------------------------------------\n",
      "|   h     |   104     |   150   |   68   |\n",
      "------------------------------------------\n"
     ]
    }
   ],
   "source": [
    "print('------------------------------------------')\n",
    "print('| Letter  |  Decimal  |  Octal  |  Hex   |')\n",
    "print('------------------------------------------')\n",
    "start = input('enter the satrt character').lower()\n",
    "while True:\n",
    "    stop = input('enter the stop chatacter').lower()\n",
    "    if stop > start:\n",
    "        break\n",
    "    print('stop character must come later on alphabet than start')\n",
    "for a in range(ord(start), ord(stop)+1):\n",
    "    dl = a\n",
    "    ol = format(a,'o')\n",
    "    hl = format(a,'x')\n",
    "    print(f'|  {chr(a):>2}     |{dl:>6}     | {ol:>5}   |   {hl:>2}   |')\n",
    "    print('------------------------------------------')"
   ]
  },
  {
   "cell_type": "markdown",
   "metadata": {},
   "source": [
    "#### 18\n",
    "Write a program to print all the letter from A to Z"
   ]
  },
  {
   "cell_type": "code",
   "execution_count": 34,
   "metadata": {},
   "outputs": [
    {
     "name": "stdout",
     "output_type": "stream",
     "text": [
      "A B C D E F G H I J K L M N O P Q R S T U V W X Y Z "
     ]
    }
   ],
   "source": [
    "for a in range(ord('A'), ord('Z')+1):\n",
    "    print(f'{chr(a)}', end=' ')"
   ]
  },
  {
   "cell_type": "markdown",
   "metadata": {},
   "source": [
    "#### 19\n",
    "Write a program to find al 3-digits Armstrong number (e.g. 153 = 1^3 + 5^3 + 3^3)"
   ]
  },
  {
   "cell_type": "code",
   "execution_count": null,
   "metadata": {},
   "outputs": [
    {
     "name": "stdout",
     "output_type": "stream",
     "text": [
      "3-digit Armstrong numbers are:\n",
      "153\n",
      "370\n",
      "371\n",
      "407\n"
     ]
    }
   ],
   "source": [
    "print(\"3-digit Armstrong numbers are:\")\n",
    "\n",
    "for num in range(100, 1000):  \n",
    "    digits = str(num)        \n",
    "    n = len(digits)           \n",
    "    arm_sum = sum(int(d)**n for d in digits)  \n",
    "    if num == arm_sum:        \n",
    "        print(num)"
   ]
  }
 ],
 "metadata": {
  "kernelspec": {
   "display_name": "Python 3",
   "language": "python",
   "name": "python3"
  },
  "language_info": {
   "codemirror_mode": {
    "name": "ipython",
    "version": 3
   },
   "file_extension": ".py",
   "mimetype": "text/x-python",
   "name": "python",
   "nbconvert_exporter": "python",
   "pygments_lexer": "ipython3",
   "version": "3.13.7"
  }
 },
 "nbformat": 4,
 "nbformat_minor": 2
}
