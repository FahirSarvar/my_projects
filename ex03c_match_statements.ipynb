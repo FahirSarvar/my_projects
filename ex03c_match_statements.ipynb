{
    "cells": [
        {
            "cell_type": "markdown",
            "id": "ff13e327",
            "metadata": {},
            "source": [
                "## Simple Matching\n",
                "\n",
                "Write a program that asks the user to enter \"red\", \"green\", or \"blue\".\n",
                "Use match to print a message like \"You chose red!\", \"You chose green!\", or \"You chose blue!\".\n",
                "If the input doesnâ€™t match, print \"Unknown color\".\n"
            ]
        },
        {
            "cell_type": "code",
            "execution_count": 1,
            "id": "588bfcb7",
            "metadata": {},
            "outputs": [
                {
                    "name": "stdout",
                    "output_type": "stream",
                    "text": [
                        "you chose red\n"
                    ]
                }
            ],
            "source": [
                "a=input('enetr the color')\n",
                "match a:\n",
                "    case 'red':\n",
                "        print('you chose red')\n",
                "    case 'green':\n",
                "        print('you chose green')\n",
                "    case 'blue':\n",
                "        print('you chose blue')    \n",
                "    case _:\n",
                "        print('wrong try again')"
            ]
        },
        {
            "cell_type": "markdown",
            "id": "7391e031",
            "metadata": {},
            "source": [
                "## Matching Multiple Values\n",
                "\n",
                "Ask the user to enter a day of the week.\n",
                "Use match to print \"Weekend\" if the day is Saturday or Sunday, otherwise print \"Weekday\".\n",
                "(Hint: lowercase the input first with .lower().)"
            ]
        },
        {
            "cell_type": "code",
            "execution_count": 4,
            "id": "d96c016c",
            "metadata": {},
            "outputs": [
                {
                    "name": "stdout",
                    "output_type": "stream",
                    "text": [
                        "Weekday\n"
                    ]
                }
            ],
            "source": [
                "a=input('enter the day of the week').lower()\n",
                "match a:\n",
                "    case 'sarutday'|'sunday':\n",
                "        print('Weekend')\n",
                "    case 'monday'|'tuesday'|'wednesday'|'thursday'|'friday':\n",
                "        print('Weekday')\n",
                "    case _:\n",
                "        print('invalid answer')\n",
                "\n"
            ]
        },
        {
            "cell_type": "markdown",
            "id": "05656b02",
            "metadata": {},
            "source": [
                "## Variable Binding\n",
                "\n",
                "Given a tuple (x, y), use match to check:\n",
                "\n",
                "(0, 0) â†’ \"Origin\"\n",
                "\n",
                "(x, 0) â†’ \"On the X-axis\"\n",
                "\n",
                "(0, y) â†’ \"On the Y-axis\"\n",
                "\n",
                "(x, y) â†’ \"Point at x=..., y=...\"\n",
                "\n",
                "Try it with different values.\n"
            ]
        },
        {
            "cell_type": "code",
            "execution_count": 14,
            "id": "e27c1989",
            "metadata": {},
            "outputs": [
                {
                    "name": "stdout",
                    "output_type": "stream",
                    "text": [
                        "Point at x=10.0,y=10.0\n"
                    ]
                }
            ],
            "source": [
                "x =float(input('enetr x'))\n",
                "y =float(input('enetr y'))\n",
                "match (x,y):\n",
                "    case (0,0):\n",
                "        print('Origin')\n",
                "    case (x,0):\n",
                "        print('On the X-axis')\n",
                "    case (0,y):\n",
                "        print('On the Y-axis')\n",
                "    case (x,y):\n",
                "        print(f'Point at x={x},y={y}')\n",
                "    "
            ]
        },
        {
            "cell_type": "markdown",
            "id": "5a174dd8",
            "metadata": {},
            "source": [
                "## Guards (with if)\n",
                "\n",
                "Write a program that asks the user for an integer.\n",
                "Use match to check:\n",
                "\n",
                "If the number is negative\n",
                "\n",
                "If the number is even\n",
                "\n",
                "Otherwise, treat it as odd"
            ]
        },
        {
            "cell_type": "markdown",
            "id": "5e698b7d",
            "metadata": {},
            "source": [
                "## Combining Patterns\n",
                "\n",
                "Write a program that asks the user to enter a number between 1 and 10.\n",
                "Use match to:\n",
                "\n",
                "Print \"One\" if the number is 1\n",
                "\n",
                "Print \"Two or Three\" if the number is 2 or 3\n",
                "\n",
                "Print \"Greater than 5\" if the number is > 5\n",
                "\n",
                "Print \"Other number\" otherwise"
            ]
        },
        {
            "cell_type": "markdown",
            "id": "782b72ca",
            "metadata": {},
            "source": [
                "## Matching Sequences\n",
                "\n",
                "Given a list of names, use match to:\n",
                "\n",
                "Print \"Two names: ...\" if the list has exactly two items\n",
                "\n",
                "Print \"Three names: ...\" if the list has exactly three items\n",
                "\n",
                "Print \"Many names: ...\" if the list has more than three items\n",
                "\n",
                "Test with:\n",
                "\n",
                "[\"Alice\", \"Bob\"]\n",
                "[\"Alice\", \"Bob\", \"Charlie\"]\n",
                "[\"Alice\", \"Bob\", \"Charlie\", \"David\"]\n",
                "\n"
            ]
        },
        {
            "cell_type": "markdown",
            "id": "cb5a83ed",
            "metadata": {},
            "source": [
                "7. Matching Dictionaries\n",
                "\n",
                "Write a program with a dictionary representing a student, e.g.:\n",
                "\n",
                "student = {\"name\": \"Sara\", \"id\": 123, \"program\": \"Computer Science\"}\n",
                "\n",
                "\n",
                "Use match to:\n",
                "\n",
                "Print the name and ID if both exist.\n",
                "\n",
                "Print the name and program if both exist.\n",
                "\n",
                "Print \"Unknown student data\" otherwise."
            ]
        },
        {
            "cell_type": "markdown",
            "id": "9f2b97dc",
            "metadata": {},
            "source": [
                "## Matching Classes\n",
                "\n",
                "Create a Point class with attributes x and y.\n",
                "Write a program that uses match to:\n",
                "\n",
                "Print \"Origin\" if the point is at (0, 0)\n",
                "\n",
                "Print \"On x-axis\" if y == 0\n",
                "\n",
                "Print \"On y-axis\" if x == 0\n",
                "\n",
                "Otherwise, print \"Point at (x, y)\"."
            ]
        }
    ],
    "metadata": {
        "kernelspec": {
            "display_name": "Python 3",
            "language": "python",
            "name": "python3"
        },
        "language_info": {
            "codemirror_mode": {
                "name": "ipython",
                "version": 3
            },
            "file_extension": ".py",
            "mimetype": "text/x-python",
            "name": "python",
            "nbconvert_exporter": "python",
            "pygments_lexer": "ipython3",
            "version": "3.13.7"
        }
    },
    "nbformat": 4,
    "nbformat_minor": 5
}
