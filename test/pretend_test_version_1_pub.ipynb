{
 "cells": [
  {
   "cell_type": "markdown",
   "id": "660ec557",
   "metadata": {},
   "source": [
    "Name: Narendra Pershad     \n",
    "SIN: 123-456-789    \n",
    "Course: COMP100-001    \n",
    "Date: October 9, 2025    "
   ]
  },
  {
   "cell_type": "markdown",
   "id": "66537dc6",
   "metadata": {},
   "source": [
    "## COMP100 pretend test\n",
    "This test contributes **0%** towards your final grade.\n",
    "\n",
    "#### Time: 90 minutes\n",
    "### Not Allowed\n",
    "-   No cells phones.\n",
    "-   AI Tools.\n",
    "-   No code written by someone else.\n",
    "-   No communications with anyone or any agents.\n",
    "### Allowed aids\n",
    "-   Any code that you have personally written. (Code written as a group.)\n",
    "-   Any material given by your instructor.\n",
    "### Instructions\n",
    "-   Download the notebook to your local drive.\n",
    "-   Read the question.\n",
    "-   Insert a code cell after each question.\n",
    "-   Run the sample solution.\n",
    "-   Check that you understand what is necessary.\n",
    "-   Write the python statement that produces the intended result. \n",
    "-   You must match the output of the sample **EXACTLY**.\n",
    "-   Please heed the warning if present for any question.\n",
    "\n",
    "### Submission\n",
    "-   When the time is up or when you are finished, Upload this notebook to the appropriate folder on luminate."
   ]
  },
  {
   "cell_type": "markdown",
   "id": "da204e32",
   "metadata": {},
   "source": [
    "#### 1 - Console output (3 marks)\n",
    "##### sample solution - q1.cpython-313.pyc\n",
    "Write the statement to produce the output as given by the sample output\n"
   ]
  },
  {
   "cell_type": "code",
   "execution_count": 2,
   "id": "bcc98521",
   "metadata": {},
   "outputs": [
    {
     "name": "stdout",
     "output_type": "stream",
     "text": [
      "Narendra Pershad \n",
      "941 Progress Ave. \n",
      "Toronto, ON M1G 3T8\n"
     ]
    }
   ],
   "source": [
    "print('Narendra Pershad \\n941 Progress Ave. \\nToronto, ON M1G 3T8')"
   ]
  },
  {
   "cell_type": "markdown",
   "id": "c51d42cf",
   "metadata": {},
   "source": [
    "#### 2 - Console input/output (8 marks)\n",
    "##### sample solution - q2.cpython-313.pyc   \n",
    "Write the statement to produce the interaction as given by the sample output"
   ]
  },
  {
   "cell_type": "code",
   "execution_count": 4,
   "id": "6d530188",
   "metadata": {},
   "outputs": [
    {
     "name": "stdout",
     "output_type": "stream",
     "text": [
      "Hello fahir, I have 4 friends!\n"
     ]
    }
   ],
   "source": [
    "a = input('Enter your name')\n",
    "b = int(input('Enter number of friends you have'))\n",
    "c = b+1\n",
    "print(f'Hello {a}, I have {c} friends!')"
   ]
  },
  {
   "cell_type": "markdown",
   "id": "7f00e65e",
   "metadata": {},
   "source": [
    "#### 3 - While loop (9 marks)\n",
    "##### sample solution - q3.cpython-313.pyc \n",
    "Write the statement to produce the interaction as given by the sample output   \n",
    "*You must use a while loop*   \n",
    "*You must declare variables for all the items in your loop*"
   ]
  },
  {
   "cell_type": "code",
   "execution_count": 20,
   "id": "d405a856",
   "metadata": {},
   "outputs": [
    {
     "name": "stdout",
     "output_type": "stream",
     "text": [
      "1 3 5 7 9 "
     ]
    }
   ],
   "source": [
    "a = 0\n",
    "b = 0\n",
    "while a<10:\n",
    "    if a % 2 == 1:\n",
    "        b += a\n",
    "        print(a, end=' ')\n",
    "    a += 1\n"
   ]
  },
  {
   "cell_type": "markdown",
   "id": "fd62496f",
   "metadata": {},
   "source": [
    "#### 4 - For loop (10 marks)\n",
    "##### sample solution - q4.cpython-313.pyc \n",
    "Write the statement to produce the interaction as given by the sample output   \n",
    "*You must use a for-loop*"
   ]
  },
  {
   "cell_type": "code",
   "execution_count": 23,
   "id": "3c9b56dc",
   "metadata": {},
   "outputs": [
    {
     "name": "stdout",
     "output_type": "stream",
     "text": [
      "Enter number 1: 1\n",
      "Enter number 2: 1\n",
      "Enter number 3: 1\n",
      "Sum is 3\n"
     ]
    }
   ],
   "source": [
    "b = 0\n",
    "for c in range(1,4):\n",
    "        a = int(input(f'Enter number {c}'))\n",
    "        print(f'Enter number {c}: {a}')\n",
    "        b += a\n",
    "print(f'Sum is {b}')\n"
   ]
  },
  {
   "cell_type": "markdown",
   "id": "63d50ca7",
   "metadata": {},
   "source": [
    "#### 5 - For loop (13 marks)\n",
    "##### sample solution - q5.cpython-313.pyc \n",
    "Write the statement to produce the interaction as given by the sample output   \n",
    "*Use `ord()` to convert `str` to `int` and `chr()` to convert `int` to `str`*   \n",
    "*Use `a` and `f` as start and end to see the intended alignment more clearly*"
   ]
  },
  {
   "cell_type": "code",
   "execution_count": null,
   "id": "95ce1e50",
   "metadata": {},
   "outputs": [
    {
     "name": "stdout",
     "output_type": "stream",
     "text": [
      "97    -> a\n",
      "98    -> b\n",
      "99    -> c\n",
      "100   -> d\n",
      "101   -> e\n",
      "102   -> f\n",
      "103   -> g\n",
      "104   -> h\n",
      "105   -> i\n",
      "106   -> j\n",
      "107   -> k\n",
      "108   -> l\n",
      "109   -> m\n",
      "110   -> n\n",
      "111   -> o\n",
      "112   -> p\n",
      "113   -> q\n",
      "114   -> r\n",
      "115   -> s\n",
      "116   -> t\n"
     ]
    }
   ],
   "source": [
    "first = input('Enetr start character').lower()\n",
    "last = input('Enetr end character').lower()\n",
    "for _ in range(ord(first), ord(last)+1):\n",
    "    dl = _\n",
    "    print(f'{dl:<5} ->  {chr(_)}')"
   ]
  },
  {
   "cell_type": "markdown",
   "id": "222dd999",
   "metadata": {},
   "source": [
    "#### 6 - Function (13 marks)\n",
    "##### sample solution - q6.cpython-313.pyc \n",
    "Write a function call foo() that produces the interaction as given by the sample output.   \n",
    "Call the function once and print the return value.\n",
    "\n",
    "*Your function does not take any argument*   \n",
    "*It must return the volume: length * width * height*"
   ]
  },
  {
   "cell_type": "code",
   "execution_count": 44,
   "id": "891085aa",
   "metadata": {},
   "outputs": [
    {
     "name": "stdout",
     "output_type": "stream",
     "text": [
      "Volume is 1000.0\n"
     ]
    }
   ],
   "source": [
    "def foo(height: float, width: float, lenght: float):\n",
    "    print(f'Volume is {width * height * lenght}')\n",
    "height = float(input('Enter height'))\n",
    "width = float(input('Enter width'))\n",
    "lenght = float(input('Enter lenght'))\n",
    "foo(height, width, lenght)\n",
    "\n"
   ]
  }
 ],
 "metadata": {
  "kernelspec": {
   "display_name": "Python 3",
   "language": "python",
   "name": "python3"
  },
  "language_info": {
   "codemirror_mode": {
    "name": "ipython",
    "version": 3
   },
   "file_extension": ".py",
   "mimetype": "text/x-python",
   "name": "python",
   "nbconvert_exporter": "python",
   "pygments_lexer": "ipython3",
   "version": "3.13.7"
  }
 },
 "nbformat": 4,
 "nbformat_minor": 5
}
