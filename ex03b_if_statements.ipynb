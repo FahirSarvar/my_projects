{
    "cells": [
        {
            "cell_type": "markdown",
            "id": "1d0039c4",
            "metadata": {},
            "source": [
                "## Boolean Expressions & Comparison Operators\n",
                "\n",
                "For exercises 1 to 3, you should not use an if-statement, simply print the result of the comparison\n",
                "\n",
                "### Exercise 1\n",
                "Write a program that asks the user to enter their age. Print True if the age is greater than 18, otherwise print False.\n"
            ]
        },
        {
            "cell_type": "code",
            "execution_count": 5,
            "id": "64b971f7",
            "metadata": {},
            "outputs": [
                {
                    "name": "stdout",
                    "output_type": "stream",
                    "text": [
                        "False\n"
                    ]
                }
            ],
            "source": [
                "age=int(input('enter the age'))\n",
                "print(age>18)"
            ]
        },
        {
            "cell_type": "markdown",
            "id": "b6197c0e",
            "metadata": {},
            "source": [
                "### Exercise 2\n",
                "Ask the user to input two numbers. Print True if the first number is strictly less than the second."
            ]
        },
        {
            "cell_type": "code",
            "execution_count": 8,
            "id": "3305cade",
            "metadata": {},
            "outputs": [
                {
                    "name": "stdout",
                    "output_type": "stream",
                    "text": [
                        "False\n"
                    ]
                }
            ],
            "source": [
                "a=float(input('enter the first number'))\n",
                "b=float(input('enter the second number'))\n",
                "print(a<b)"
            ]
        },
        {
            "cell_type": "markdown",
            "id": "65fed9c2",
            "metadata": {},
            "source": [
                "### Exercise 3\n",
                "Given a variable x = 10, write Boolean expressions that evaluate to:\n",
                "\n",
                "True if x is equal to 10\n",
                "\n",
                "True if x is not equal to 5\n",
                "\n",
                "True if x is greater than or equal to 7"
            ]
        },
        {
            "cell_type": "code",
            "execution_count": 18,
            "id": "96adfc8a",
            "metadata": {},
            "outputs": [
                {
                    "name": "stdout",
                    "output_type": "stream",
                    "text": [
                        "True True True\n"
                    ]
                }
            ],
            "source": [
                "x=10\n",
                "print(x==10,x!=5,x>=7)"
            ]
        },
        {
            "cell_type": "markdown",
            "id": "756eabf2",
            "metadata": {},
            "source": [
                "## Simple If Statement\n",
                "\n",
                "Exercises 4-6 must not have a False block i.e. it must only have a True block\n",
                "\n",
                "### Exercise 4\n",
                "Ask the user to enter a number. If the number is positive, print \"<<number >> is positive number\"."
            ]
        },
        {
            "cell_type": "code",
            "execution_count": 5,
            "id": "3549e01d",
            "metadata": {},
            "outputs": [],
            "source": [
                "a=int(input('enter the number'))\n",
                "if a > 0:\n",
                "    print(f\"{a} is posistive number\")"
            ]
        },
        {
            "cell_type": "markdown",
            "id": "e2ec22e2",
            "metadata": {},
            "source": [
                "### Exercise 5\n",
                "\n",
                "Write the statement to prompts the user for an hourly pay rate. \n",
                "If the value entered is less than $7.50, display an appropriate error message"
            ]
        },
        {
            "cell_type": "code",
            "execution_count": 7,
            "id": "07577415",
            "metadata": {},
            "outputs": [
                {
                    "name": "stdout",
                    "output_type": "stream",
                    "text": [
                        "an entered amount is not valid try again\n"
                    ]
                }
            ],
            "source": [
                "a=int(input('enetr an hourly pay rate'))\n",
                "if a<7.5:\n",
                "    print('an entered amount is not valid try again')"
            ]
        },
        {
            "cell_type": "markdown",
            "id": "224d616b",
            "metadata": {},
            "source": [
                "### Exercise 6\n",
                "Write a program that checks whether a string entered by the user is empty. If it is not empty, print \"You entered: string\"."
            ]
        },
        {
            "cell_type": "code",
            "execution_count": null,
            "id": "0ca0e90e",
            "metadata": {},
            "outputs": [
                {
                    "name": "stdout",
                    "output_type": "stream",
                    "text": [
                        "you entered string\n"
                    ]
                }
            ],
            "source": [
                "a=input(\"type something\")\n",
                "if a != \"\":\n",
                "    print(\"you entered string\")"
            ]
        },
        {
            "cell_type": "markdown",
            "id": "63759945",
            "metadata": {},
            "source": [
                "#### Exercise 7\n",
                "Write a program that asks the user to input a test score. If the score is greater than or equal to 90 prints:    \n",
                "'Your score of 91 is Excellent'"
            ]
        },
        {
            "cell_type": "code",
            "execution_count": null,
            "id": "c3bd4aa1",
            "metadata": {},
            "outputs": [
                {
                    "name": "stdout",
                    "output_type": "stream",
                    "text": [
                        "your score of 92 is Excellent\n"
                    ]
                }
            ],
            "source": [
                "a = int(input(\"enetr your score\"))\n",
                "if a>=90:\n",
                "    print(f'your score of {a} is Excellent')"
            ]
        },
        {
            "cell_type": "markdown",
            "id": "3d4892fd",
            "metadata": {},
            "source": [
                "## If-Else Statement\n",
                "\n",
                "Exercises 7-10 will have both a True block and a False block\n",
                "\n",
                "### Exercise 7\n",
                "Ask the user to enter an integer. Print \"Even\" if the number is even, otherwise print \"Odd\"."
            ]
        },
        {
            "cell_type": "code",
            "execution_count": 18,
            "id": "b9096d3c",
            "metadata": {},
            "outputs": [
                {
                    "name": "stdout",
                    "output_type": "stream",
                    "text": [
                        "your number is even\n"
                    ]
                }
            ],
            "source": [
                "a = int(input('enter the number'))\n",
                "if a%2==0:\n",
                "    print(\"your number is even\")\n",
                "else: \n",
                "    print(\"your number is odd\")"
            ]
        },
        {
            "cell_type": "markdown",
            "id": "f6ccd8ea",
            "metadata": {},
            "source": [
                "### Exercise 8\n",
                "Write a program that ask for a user name.\n",
                "-   if the input is empty, print `You must enter a username`\n",
                "-   otherwise, print `Welcome Â«usernameÂ»`"
            ]
        },
        {
            "cell_type": "code",
            "execution_count": 20,
            "id": "83b27336",
            "metadata": {},
            "outputs": [
                {
                    "name": "stdout",
                    "output_type": "stream",
                    "text": [
                        "you must enter your name\n"
                    ]
                }
            ],
            "source": [
                "a=input(\"enter your name\")\n",
                "if a==\"\":\n",
                "    print(\"you must enter your name\")\n",
                "else:\n",
                "    print(f\"wlecome {a} \")"
            ]
        },
        {
            "cell_type": "markdown",
            "id": "0eec120f",
            "metadata": {},
            "source": [
                "### Exercise 9  \n",
                "Write a program that asks for a password. If the entered password is \"Python123\", print \"Access granted\". Otherwise, print \"Access denied\"."
            ]
        },
        {
            "cell_type": "code",
            "execution_count": 22,
            "id": "e24d214c",
            "metadata": {},
            "outputs": [
                {
                    "name": "stdout",
                    "output_type": "stream",
                    "text": [
                        "Access denied\n"
                    ]
                }
            ],
            "source": [
                "a=input(\"enter the password\")\n",
                "if a==\"Python123\":\n",
                "    print(\"Access granted\")\n",
                "else:\n",
                "    print(\"Access denied\")"
            ]
        },
        {
            "cell_type": "markdown",
            "id": "328442dd",
            "metadata": {},
            "source": [
                "### Exercise 9   \n",
                "Write the statement that prompts the user for an hourly pay rate and hours worked. \n",
                "Compute and display gross pay (hours times pay rate), withholding tax, and net pay \n",
                "(gross pay minus withholding tax). \n",
                "Withholding tax is computed as a percentage of gross pay based on the following:\n",
                "\n",
                "| Gross Pay\t                 | Withholding Percentage |\n",
                "|----------------------------|------------------------|\n",
                "| Up to and including 300.00 |\t10%                   |\n",
                "| More than300.00\t         |   12%                  |"
            ]
        },
        {
            "cell_type": "code",
            "execution_count": 2,
            "id": "4ed7cf03",
            "metadata": {},
            "outputs": [
                {
                    "name": "stdout",
                    "output_type": "stream",
                    "text": [
                        "$411.84000000000003\n",
                        "$468.0\n",
                        "$56.16\n"
                    ]
                }
            ],
            "source": [
                "a=float(input(\"enter hours worked\"))\n",
                "b=float(input(\"enetr an hourly pay rate\"))\n",
                "if (a*b)<=300:\n",
                "    print('$'f'{(a*b)-(a*b*0.1)}')\n",
                "    print('$'f'{a*b}')\n",
                "    print('$'f'{a*b*0.1}')\n",
                "else:\n",
                "    print('$'f'{(a*b)-(a*b*0.12)}')\n",
                "    print('$'f'{a*b}')\n",
                "    print('$'f'{a*b*0.12}')\n",
                "\n"
            ]
        },
        {
            "cell_type": "markdown",
            "id": "ffb9e308",
            "metadata": {},
            "source": [
                "### Exercise 10\n",
                "\n",
                "If money is left in a particular bank for more than 5 years, the interest rate given by the bank is 7.5%, else the interest rate is 5.4%. Write the statements that prompt the user for the number of years that the money was left in the bank and display the appropriate interest rate depending on the value input. How many runs should you make to very that it works correctly?"
            ]
        },
        {
            "cell_type": "code",
            "execution_count": 2,
            "id": "d3edab2f",
            "metadata": {},
            "outputs": [
                {
                    "name": "stdout",
                    "output_type": "stream",
                    "text": [
                        "your interest rate would be 5.4%\n"
                    ]
                }
            ],
            "source": [
                "a=int(input(\"eneter the number of years you intend to hold money in the bank\"))\n",
                "if a>5:\n",
                "    print(\"your interest rate would be 7.5%\")\n",
                "else:\n",
                "    print(\"your interest rate would be 5.4%\")"
            ]
        },
        {
            "cell_type": "markdown",
            "id": "c08cb625",
            "metadata": {},
            "source": [
                "## Nested If / If-Elif-Else\n",
                "\n",
                "Exercises 11-13 will have both True and False blocks, and will have an if=statement in either the True or False block or both.\n",
                "\n",
                "### Exercise 11\n",
                "Write a program that asks the user for a grade (A, B, C, D, F). Using if-elif-else, print the corresponding message:\n",
                "\n",
                "-   'Excellent' for A\n",
                "-   'Good' for B\n",
                "-   'Average' for C\n",
                "-   'Poor' for D\n",
                "-   'Fail' for F"
            ]
        },
        {
            "cell_type": "code",
            "execution_count": 6,
            "id": "cbc0c754",
            "metadata": {},
            "outputs": [
                {
                    "name": "stdout",
                    "output_type": "stream",
                    "text": [
                        "Poor\n"
                    ]
                }
            ],
            "source": [
                "a=input(\"enetr the mark you got\")\n",
                "if a==\"A\":\n",
                "    print(\"Excellent\")\n",
                "elif a==\"B\":\n",
                "    print(\"Good\")\n",
                "elif a==\"C\":\n",
                "    print(\"Poor\")\n",
                "elif a==\"F\":\n",
                "    print(\"Fail\")\n",
                "else:\n",
                "    print(\"invalid garde\")\n",
                "\n",
                "\n"
            ]
        },
        {
            "cell_type": "markdown",
            "id": "77a791f6",
            "metadata": {},
            "source": [
                "### Exercise 12\n",
                "Ask the user for their age and years of service\n",
                "-   if age is 65 or older, print `Eligible for pension`\n",
                "-   otherwise check if service is more than 10 year, print `Eligible for pension`\n",
                "-   othersize, print `Not eligible`"
            ]
        },
        {
            "cell_type": "code",
            "execution_count": 12,
            "id": "bce754d6",
            "metadata": {},
            "outputs": [
                {
                    "name": "stdout",
                    "output_type": "stream",
                    "text": [
                        "you are eligible for pension\n"
                    ]
                }
            ],
            "source": [
                "a=int(input(\"enter your age\"))\n",
                "if a>65:\n",
                "    print(\"you are eligible for pension\")\n",
                "else:\n",
                "    b=int(input(\"enter the number of years of service\"))\n",
                "    if b>10:\n",
                "        print(\"you are eligible for pension\")\n",
                "    else:\n",
                "        print(\"not eligible\")"
            ]
        },
        {
            "cell_type": "markdown",
            "id": "6238d803",
            "metadata": {},
            "source": [
                "### Exercise 12\n",
                "Ask the user to enter a number. If the number is positive, check if itâ€™s even or odd and print the result. If itâ€™s negative, print \"Negative number\"."
            ]
        },
        {
            "cell_type": "code",
            "execution_count": 15,
            "id": "4ac2a968",
            "metadata": {},
            "outputs": [
                {
                    "name": "stdout",
                    "output_type": "stream",
                    "text": [
                        "your number is odd\n"
                    ]
                }
            ],
            "source": [
                "a=float(input(\"enter the number\"))\n",
                "if a<0:\n",
                "    print(\"number is negative\")\n",
                "elif a%2==0:\n",
                "    print('your number is even')\n",
                "else:\n",
                "    print('your number is odd')\n",
                "    "
            ]
        },
        {
            "cell_type": "markdown",
            "id": "969bba24",
            "metadata": {},
            "source": [
                "### Exercise 13\n",
                "Write the statements to prompt the user for two integers and a letter. Do the following:\n",
                "-   If the letter is A add the two numbers\n",
                "-   If the letter is S subtract the second from the first\n",
                "-   If the letter is M multiply the two numbers\n",
                "-   Otherwise divide the first number by the second\n",
                "\n",
                "P.S. This problem can be solved more elegantly using the match-statement"
            ]
        },
        {
            "cell_type": "code",
            "execution_count": 19,
            "id": "0524f7c3",
            "metadata": {},
            "outputs": [
                {
                    "name": "stdout",
                    "output_type": "stream",
                    "text": [
                        "2.5\n"
                    ]
                }
            ],
            "source": [
                "a=int(input(\"enter first integer\"))\n",
                "b=int(input(\"enter second integer\"))\n",
                "letter=input(\"eneter a letter\")\n",
                "if letter==\"A\":\n",
                "    print(f\"{a+b}\")\n",
                "elif letter==\"S\":\n",
                "    print(f\"{a-b}\")\n",
                "elif letter==\"M\":\n",
                "    print(f\"{a*b}\")\n",
                "else:\n",
                "    print(f\"{a/b}\")"
            ]
        },
        {
            "cell_type": "markdown",
            "id": "422ba3e8",
            "metadata": {},
            "source": [
                "## Logical Operators (and, or)\n",
                "\n",
                "### Exercise 14\n",
                "Ask the user to input a year. Print \"Leap year\" if:\n",
                "\n",
                "The year is divisible by 4 and not divisible by 100, or divisible by 400.\n",
                "Otherwise, print \"Not a leap year\"."
            ]
        },
        {
            "cell_type": "code",
            "execution_count": 25,
            "id": "cec00520",
            "metadata": {},
            "outputs": [
                {
                    "name": "stdout",
                    "output_type": "stream",
                    "text": [
                        "Leap year\n"
                    ]
                }
            ],
            "source": [
                "a=int(input(\"enter a year\"))\n",
                "if (a%4==0 and a%100!=0) or a%400==0:\n",
                "    print(\"Leap year\")\n",
                "else:\n",
                "    print(\"not a leap year\")"
            ]
        },
        {
            "cell_type": "markdown",
            "id": "97c7725b",
            "metadata": {},
            "source": [
                "### Exercise 15\n",
                "Write a program that asks for two numbers. Print \"Both positive\" if both are greater than 0, \"At least one positive\" if one or both are greater than 0, otherwise print \"No positives\".\n",
                "\n",
                "N.B. This exercise may be solve in multiple ways."
            ]
        },
        {
            "cell_type": "code",
            "execution_count": 28,
            "id": "b551a8c7",
            "metadata": {},
            "outputs": [
                {
                    "name": "stdout",
                    "output_type": "stream",
                    "text": [
                        "no positives\n"
                    ]
                }
            ],
            "source": [
                "a = float(input(\"enter a number\"))\n",
                "b = float(input(\"enter a number\"))\n",
                "if a>0 and b>0:\n",
                "    print('both positive')\n",
                "elif a>0 or b>0:\n",
                "    print('at least one positive')\n",
                "else:\n",
                "    print(\"no positives\")"
            ]
        }
    ],
    "metadata": {
        "kernelspec": {
            "display_name": "Python 3",
            "language": "python",
            "name": "python3"
        },
        "language_info": {
            "codemirror_mode": {
                "name": "ipython",
                "version": 3
            },
            "file_extension": ".py",
            "mimetype": "text/x-python",
            "name": "python",
            "nbconvert_exporter": "python",
            "pygments_lexer": "ipython3",
            "version": "3.13.7"
        }
    },
    "nbformat": 4,
    "nbformat_minor": 5
}
